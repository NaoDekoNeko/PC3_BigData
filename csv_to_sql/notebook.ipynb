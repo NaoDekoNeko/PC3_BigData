{
 "cells": [
  {
   "cell_type": "code",
   "execution_count": 7,
   "id": "38cf2a28",
   "metadata": {},
   "outputs": [],
   "source": [
    "import pandas as pd"
   ]
  },
  {
   "cell_type": "code",
   "execution_count": 8,
   "id": "c7a0abbe",
   "metadata": {},
   "outputs": [],
   "source": [
    "postulantes_df = pd.read_csv(\"LISTA_DE_POSTULANTES_1.csv\", sep=\";\", encoding=\"latin1\")"
   ]
  },
  {
   "cell_type": "code",
   "execution_count": 9,
   "id": "245137f9",
   "metadata": {},
   "outputs": [
    {
     "data": {
      "text/plain": [
       "FECHA_CORTE             int64\n",
       "UUID                   object\n",
       "ESCUELA                object\n",
       "MODALIDAD              object\n",
       "ANNIO_POSTULACION       int64\n",
       "UBIGEO                  int64\n",
       "DEPARTAMENTO           object\n",
       "PROVINCIA              object\n",
       "DISTRITO               object\n",
       "UBIGEO_ORIGEN           int64\n",
       "DEPARTAMENTO_ORIGEN    object\n",
       "PROVINCIA_ORIGEN       object\n",
       "DISTRITO_ORIGEN        object\n",
       "UBIGEO_IE               int64\n",
       "DEPARTAMENTO_IE        object\n",
       "PROVINCIA_IE           object\n",
       "DISTRITO_IE            object\n",
       "EDAD                    int64\n",
       "SEXO                   object\n",
       "PAGO                    int64\n",
       "IDIOMA                 object\n",
       "LEE                    object\n",
       "ESCRIBE                object\n",
       "HABLA                  object\n",
       "TIENE_DISCAPACIDAD     object\n",
       "TIPO_COMUNIDAD         object\n",
       "COMUNIDAD              object\n",
       "dtype: object"
      ]
     },
     "execution_count": 9,
     "metadata": {},
     "output_type": "execute_result"
    }
   ],
   "source": [
    "postulantes_df.dtypes"
   ]
  },
  {
   "cell_type": "code",
   "execution_count": 10,
   "id": "74db680c",
   "metadata": {},
   "outputs": [
    {
     "name": "stdout",
     "output_type": "stream",
     "text": [
      "🔄 Convirtiendo tipos de datos para postulantes...\n",
      "✅ Tipos convertidos para postulantes!\n"
     ]
    }
   ],
   "source": [
    "# Función para limpiar números (quitar comas y convertir a float)\n",
    "def limpiar_numerico(serie):\n",
    "    if serie.dtype == 'object':\n",
    "        # Quitar comas y convertir a numeric\n",
    "        return pd.to_numeric(serie.astype(str).str.replace(',', ''), errors='coerce')\n",
    "    return serie\n",
    "\n",
    "# Aplicar conversiones según el diccionario de datos para postulantes\n",
    "print(\"🔄 Convirtiendo tipos de datos para postulantes...\")\n",
    "\n",
    "# Campos numéricos enteros\n",
    "postulantes_df['FECHA_CORTE'] = limpiar_numerico(postulantes_df['FECHA_CORTE']).astype('Int64')\n",
    "postulantes_df['ANNIO_POSTULACION'] = limpiar_numerico(postulantes_df['ANNIO_POSTULACION']).astype('Int64')\n",
    "postulantes_df['UBIGEO'] = limpiar_numerico(postulantes_df['UBIGEO']).astype('Int64')\n",
    "postulantes_df['UBIGEO_ORIGEN'] = limpiar_numerico(postulantes_df['UBIGEO_ORIGEN']).astype('Int64')\n",
    "postulantes_df['UBIGEO_IE'] = limpiar_numerico(postulantes_df['UBIGEO_IE']).astype('Int64')\n",
    "postulantes_df['EDAD'] = limpiar_numerico(postulantes_df['EDAD']).astype('Int64')\n",
    "postulantes_df['PAGO'] = limpiar_numerico(postulantes_df['PAGO']).astype('Int64')\n",
    "\n",
    "# Campos de texto (convertir a string)\n",
    "text_fields = [\n",
    "    'UUID', 'ESCUELA', 'MODALIDAD', 'DEPARTAMENTO', 'PROVINCIA', 'DISTRITO',\n",
    "    'DEPARTAMENTO_ORIGEN', 'PROVINCIA_ORIGEN', 'DISTRITO_ORIGEN',\n",
    "    'DEPARTAMENTO_IE', 'PROVINCIA_IE', 'DISTRITO_IE', 'SEXO', 'IDIOMA',\n",
    "    'LEE', 'ESCRIBE', 'HABLA', 'TIENE_DISCAPACIDAD', 'TIPO_COMUNIDAD', 'COMUNIDAD'\n",
    "]\n",
    "\n",
    "for field in text_fields:\n",
    "    if field in postulantes_df.columns:\n",
    "        postulantes_df[field] = postulantes_df[field].astype('string')\n",
    "\n",
    "print(\"✅ Tipos convertidos para postulantes!\")"
   ]
  },
  {
   "cell_type": "code",
   "execution_count": 11,
   "id": "804d46a6",
   "metadata": {},
   "outputs": [
    {
     "name": "stdout",
     "output_type": "stream",
     "text": [
      "📊 Tipos de datos después de la conversión:\n"
     ]
    },
    {
     "data": {
      "text/plain": [
       "FECHA_CORTE                     Int64\n",
       "UUID                   string[python]\n",
       "ESCUELA                string[python]\n",
       "MODALIDAD              string[python]\n",
       "ANNIO_POSTULACION               Int64\n",
       "UBIGEO                          Int64\n",
       "DEPARTAMENTO           string[python]\n",
       "PROVINCIA              string[python]\n",
       "DISTRITO               string[python]\n",
       "UBIGEO_ORIGEN                   Int64\n",
       "DEPARTAMENTO_ORIGEN    string[python]\n",
       "PROVINCIA_ORIGEN       string[python]\n",
       "DISTRITO_ORIGEN        string[python]\n",
       "UBIGEO_IE                       Int64\n",
       "DEPARTAMENTO_IE        string[python]\n",
       "PROVINCIA_IE           string[python]\n",
       "DISTRITO_IE            string[python]\n",
       "EDAD                            Int64\n",
       "SEXO                   string[python]\n",
       "PAGO                            Int64\n",
       "IDIOMA                 string[python]\n",
       "LEE                    string[python]\n",
       "ESCRIBE                string[python]\n",
       "HABLA                  string[python]\n",
       "TIENE_DISCAPACIDAD     string[python]\n",
       "TIPO_COMUNIDAD         string[python]\n",
       "COMUNIDAD              string[python]\n",
       "dtype: object"
      ]
     },
     "execution_count": 11,
     "metadata": {},
     "output_type": "execute_result"
    }
   ],
   "source": [
    "# Verificar los tipos después de la conversión\n",
    "print(\"📊 Tipos de datos después de la conversión:\")\n",
    "postulantes_df.dtypes"
   ]
  },
  {
   "cell_type": "code",
   "execution_count": 12,
   "id": "9c93cc85",
   "metadata": {},
   "outputs": [
    {
     "name": "stdout",
     "output_type": "stream",
     "text": [
      "📝 Procesados 1000 registros...\n",
      "📝 Procesados 2000 registros...\n",
      "📝 Procesados 3000 registros...\n",
      "📝 Procesados 4000 registros...\n",
      "✅ Archivo SQL generado: postulantes_clean.sql\n",
      "📊 Registros: 4928\n",
      "📋 Columnas: 27\n",
      "✅ Archivo SQL generado: postulantes_clean.sql\n",
      "📊 Registros: 4928\n",
      "📋 Columnas: 27\n"
     ]
    }
   ],
   "source": [
    "# Función para generar SQL desde DataFrame con tipos correctos\n",
    "def dataframe_to_sql(df, table_name=\"df_table\", output_file=None):\n",
    "    \"\"\"\n",
    "    Convierte DataFrame a SQL con tipos de datos correctos\n",
    "    \"\"\"\n",
    "    \n",
    "    if output_file is None:\n",
    "        output_file = f\"{table_name}.sql\"\n",
    "    \n",
    "    # Mapear tipos de pandas a PostgreSQL\n",
    "    type_mapping = {\n",
    "        'Int64': 'INTEGER',\n",
    "        'int64': 'INTEGER', \n",
    "        'float64': 'DECIMAL(15,2)',\n",
    "        'string': 'VARCHAR(500)',\n",
    "        'object': 'VARCHAR(500)'\n",
    "    }\n",
    "    \n",
    "    sql_content = []\n",
    "    \n",
    "    # CREATE TABLE\n",
    "    sql_content.append(f\"-- Tabla generada desde DataFrame\")\n",
    "    sql_content.append(f\"DROP TABLE IF EXISTS {table_name};\")\n",
    "    sql_content.append(f\"CREATE TABLE {table_name} (\")\n",
    "    \n",
    "    columns = []\n",
    "    for col in df.columns:\n",
    "        clean_col = col.lower().replace(' ', '_').replace('-', '_')\n",
    "        pandas_type = str(df[col].dtype)\n",
    "        \n",
    "        # Mapear tipos específicos según el diccionario de datos para postulantes\n",
    "        if col in ['FECHA_CORTE', 'ANNIO_POSTULACION', 'UBIGEO', 'UBIGEO_ORIGEN', 'UBIGEO_IE', 'EDAD', 'PAGO']:\n",
    "            sql_type = 'INTEGER'\n",
    "        elif col == 'UUID':\n",
    "            sql_type = 'VARCHAR(64)'  # UUID como string\n",
    "        elif col in ['ESCUELA', 'MODALIDAD']:\n",
    "            sql_type = 'VARCHAR(255)'\n",
    "        elif col in ['DEPARTAMENTO', 'PROVINCIA', 'DISTRITO', 'DEPARTAMENTO_ORIGEN', 'PROVINCIA_ORIGEN', 'DISTRITO_ORIGEN',\n",
    "                    'DEPARTAMENTO_IE', 'PROVINCIA_IE', 'DISTRITO_IE', 'SEXO', 'IDIOMA', 'TIPO_COMUNIDAD', 'COMUNIDAD']:\n",
    "            sql_type = 'VARCHAR(100)'\n",
    "        elif col in ['LEE', 'ESCRIBE', 'HABLA', 'TIENE_DISCAPACIDAD']:\n",
    "            sql_type = 'VARCHAR(10)'  # Para SI/NO\n",
    "        else:\n",
    "            sql_type = type_mapping.get(pandas_type, 'VARCHAR(255)')\n",
    "        \n",
    "        columns.append(f\"    {clean_col} {sql_type}\")\n",
    "    \n",
    "    sql_content.append(\",\\n\".join(columns))\n",
    "    sql_content.append(\");\")\n",
    "    sql_content.append(\"\")\n",
    "    \n",
    "    # INSERT statements\n",
    "    sql_content.append(f\"-- Insertar datos ({len(df)} registros)\")\n",
    "    \n",
    "    for index, row in df.iterrows():\n",
    "        values = []\n",
    "        for col in df.columns:\n",
    "            value = row[col]\n",
    "            \n",
    "            if pd.isna(value) or value is None:\n",
    "                values.append(\"NULL\")\n",
    "            elif isinstance(value, str) or df[col].dtype == 'string':\n",
    "                # Escapar comillas simples y limpiar\n",
    "                clean_value = str(value).replace(\"'\", \"''\")\n",
    "                values.append(f\"'{clean_value}'\")\n",
    "            else:\n",
    "                values.append(str(value))\n",
    "        \n",
    "        clean_columns = [col.lower().replace(' ', '_').replace('-', '_') for col in df.columns]\n",
    "        columns_str = \", \".join(clean_columns)\n",
    "        values_str = \", \".join(values)\n",
    "        \n",
    "        sql_content.append(f\"INSERT INTO {table_name} ({columns_str}) VALUES ({values_str});\")\n",
    "        \n",
    "        # Progreso cada 1000 registros\n",
    "        if (index + 1) % 1000 == 0:\n",
    "            print(f\"📝 Procesados {index + 1} registros...\")\n",
    "    \n",
    "    # Escribir archivo\n",
    "    with open(output_file, 'w', encoding='utf-8') as f:\n",
    "        f.write('\\n'.join(sql_content))\n",
    "    \n",
    "    print(f\"✅ Archivo SQL generado: {output_file}\")\n",
    "    print(f\"📊 Registros: {len(df)}\")\n",
    "    print(f\"📋 Columnas: {len(df.columns)}\")\n",
    "    \n",
    "    return output_file\n",
    "\n",
    "# Generar el SQL para postulantes\n",
    "sql_file = dataframe_to_sql(postulantes_df, \"postulantes\", \"postulantes_clean.sql\")"
   ]
  }
 ],
 "metadata": {
  "kernelspec": {
   "display_name": ".venv",
   "language": "python",
   "name": "python3"
  },
  "language_info": {
   "codemirror_mode": {
    "name": "ipython",
    "version": 3
   },
   "file_extension": ".py",
   "mimetype": "text/x-python",
   "name": "python",
   "nbconvert_exporter": "python",
   "pygments_lexer": "ipython3",
   "version": "3.13.3"
  }
 },
 "nbformat": 4,
 "nbformat_minor": 5
}
