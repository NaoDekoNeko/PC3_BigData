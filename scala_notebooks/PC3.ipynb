{
 "cells": [
  {
   "cell_type": "code",
   "execution_count": 1,
   "id": "32f9abcf",
   "metadata": {},
   "outputs": [
    {
     "name": "stderr",
     "output_type": "stream",
     "text": [
      "Using Spark's default log4j profile: org/apache/spark/log4j2-defaults.properties\n",
      "25/06/09 21:44:04 INFO SparkContext: Running Spark version 3.5.6\n",
      "25/06/09 21:44:04 INFO SparkContext: OS info Mac OS X, 15.5, aarch64\n",
      "25/06/09 21:44:04 INFO SparkContext: Java version 1.8.0_451\n",
      "25/06/09 21:44:04 WARN NativeCodeLoader: Unable to load native-hadoop library for your platform... using builtin-java classes where applicable\n",
      "25/06/09 21:44:05 INFO ResourceUtils: ==============================================================\n",
      "25/06/09 21:44:05 INFO ResourceUtils: No custom resources configured for spark.driver.\n",
      "25/06/09 21:44:05 INFO ResourceUtils: ==============================================================\n",
      "25/06/09 21:44:05 INFO SparkContext: Submitted application: Notebook\n",
      "25/06/09 21:44:05 INFO ResourceProfile: Default ResourceProfile created, executor resources: Map(cores -> name: cores, amount: 1, script: , vendor: , memory -> name: memory, amount: 1024, script: , vendor: , offHeap -> name: offHeap, amount: 0, script: , vendor: ), task resources: Map(cpus -> name: cpus, amount: 1.0)\n",
      "25/06/09 21:44:05 INFO ResourceProfile: Limiting resource is cpu\n",
      "25/06/09 21:44:05 INFO ResourceProfileManager: Added ResourceProfile id: 0\n",
      "25/06/09 21:44:05 INFO SecurityManager: Changing view acls to: naodeko\n",
      "25/06/09 21:44:05 INFO SecurityManager: Changing modify acls to: naodeko\n",
      "25/06/09 21:44:05 INFO SecurityManager: Changing view acls groups to: \n",
      "25/06/09 21:44:05 INFO SecurityManager: Changing modify acls groups to: \n",
      "25/06/09 21:44:05 INFO SecurityManager: SecurityManager: authentication disabled; ui acls disabled; users with view permissions: naodeko; groups with view permissions: EMPTY; users with modify permissions: naodeko; groups with modify permissions: EMPTY\n",
      "25/06/09 21:44:05 INFO Utils: Successfully started service 'sparkDriver' on port 63281.\n",
      "25/06/09 21:44:05 INFO SparkEnv: Registering MapOutputTracker\n",
      "25/06/09 21:44:05 INFO SparkEnv: Registering BlockManagerMaster\n",
      "25/06/09 21:44:05 INFO BlockManagerMasterEndpoint: Using org.apache.spark.storage.DefaultTopologyMapper for getting topology information\n",
      "25/06/09 21:44:05 INFO BlockManagerMasterEndpoint: BlockManagerMasterEndpoint up\n",
      "25/06/09 21:44:05 INFO SparkEnv: Registering BlockManagerMasterHeartbeat\n",
      "25/06/09 21:44:05 INFO DiskBlockManager: Created local directory at /private/var/folders/m_/_6wk_nxd4xv00ts1kyyz4r3c0000gn/T/blockmgr-1374f0a6-3cf1-437c-a17d-5f32c0238f95\n",
      "25/06/09 21:44:05 INFO MemoryStore: MemoryStore started with capacity 2004.6 MiB\n",
      "25/06/09 21:44:05 INFO SparkEnv: Registering OutputCommitCoordinator\n",
      "25/06/09 21:44:05 INFO JettyUtils: Start Jetty 0.0.0.0:4040 for SparkUI\n",
      "25/06/09 21:44:05 INFO Utils: Successfully started service 'SparkUI' on port 4040.\n",
      "25/06/09 21:44:05 INFO Executor: Starting executor ID driver on host 192.168.18.245\n",
      "25/06/09 21:44:05 INFO Executor: OS info Mac OS X, 15.5, aarch64\n",
      "25/06/09 21:44:05 INFO Executor: Java version 1.8.0_451\n",
      "25/06/09 21:44:05 INFO Executor: Starting executor with user classpath (userClassPathFirst = false): ''\n",
      "25/06/09 21:44:05 INFO Executor: Created or updated repl class loader org.apache.spark.util.MutableURLClassLoader@56b0b702 for default.\n",
      "25/06/09 21:44:05 INFO Utils: Successfully started service 'org.apache.spark.network.netty.NettyBlockTransferService' on port 63282.\n",
      "25/06/09 21:44:05 INFO NettyBlockTransferService: Server created on 192.168.18.245:63282\n",
      "25/06/09 21:44:05 INFO BlockManager: Using org.apache.spark.storage.RandomBlockReplicationPolicy for block replication policy\n",
      "25/06/09 21:44:05 INFO BlockManagerMaster: Registering BlockManager BlockManagerId(driver, 192.168.18.245, 63282, None)\n",
      "25/06/09 21:44:05 INFO BlockManagerMasterEndpoint: Registering block manager 192.168.18.245:63282 with 2004.6 MiB RAM, BlockManagerId(driver, 192.168.18.245, 63282, None)\n",
      "25/06/09 21:44:05 INFO BlockManagerMaster: Registered BlockManager BlockManagerId(driver, 192.168.18.245, 63282, None)\n",
      "25/06/09 21:44:05 INFO BlockManager: Initialized BlockManager: BlockManagerId(driver, 192.168.18.245, 63282, None)\n"
     ]
    },
    {
     "data": {
      "text/plain": [
       "\u001b[32mimport \u001b[39m\u001b[36m$ivy.$\u001b[39m\n",
       "\u001b[32mimport \u001b[39m\u001b[36m$ivy.$\u001b[39m\n",
       "\u001b[32mimport \u001b[39m\u001b[36morg.apache.spark.sql.SparkSession\u001b[39m\n",
       "\u001b[36mspark\u001b[39m: \u001b[32mSparkSession\u001b[39m = org.apache.spark.sql.SparkSession@606d8869\n",
       "\u001b[32mimport \u001b[39m\u001b[36mspark.implicits._\u001b[39m"
      ]
     },
     "execution_count": 1,
     "metadata": {},
     "output_type": "execute_result"
    }
   ],
   "source": [
    "import $ivy.`org.apache.spark::spark-sql:3.5.6`\n",
    "import $ivy.`org.apache.spark::spark-core:3.5.6`\n",
    "import org.apache.spark.sql.SparkSession\n",
    "\n",
    "val spark = SparkSession.builder()\n",
    "  .appName(\"Notebook\")\n",
    "  .master(\"local[*]\")\n",
    "  .getOrCreate()\n",
    "\n",
    "import spark.implicits._"
   ]
  },
  {
   "cell_type": "code",
   "execution_count": null,
   "id": "989353e6",
   "metadata": {},
   "outputs": [],
   "source": []
  }
 ],
 "metadata": {
  "kernelspec": {
   "display_name": "Scala",
   "language": "scala",
   "name": "scala"
  },
  "language_info": {
   "codemirror_mode": "text/x-scala",
   "file_extension": ".sc",
   "mimetype": "text/x-scala",
   "name": "scala",
   "nbconvert_exporter": "script",
   "version": "2.12.20"
  }
 },
 "nbformat": 4,
 "nbformat_minor": 5
}
